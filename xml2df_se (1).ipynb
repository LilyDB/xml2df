{
  "nbformat": 4,
  "nbformat_minor": 0,
  "metadata": {
    "colab": {
      "name": "xml2df_se.ipynb",
      "provenance": [],
      "collapsed_sections": []
    },
    "kernelspec": {
      "name": "python3",
      "display_name": "Python 3"
    }
  },
  "cells": [
    {
      "cell_type": "code",
      "metadata": {
        "id": "tRyJebii53a2"
      },
      "source": [
        "import xml.etree.ElementTree as ET\r\n",
        "import pandas as pd\r\n",
        "import requests as re\r\n",
        "import os"
      ],
      "execution_count": 342,
      "outputs": []
    },
    {
      "cell_type": "code",
      "metadata": {
        "colab": {
          "resources": {
            "http://localhost:8080/nbextensions/google.colab/files.js": {
              "data": "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",
              "ok": true,
              "headers": [
                [
                  "content-type",
                  "application/javascript"
                ]
              ],
              "status": 200,
              "status_text": ""
            }
          },
          "base_uri": "https://localhost:8080/",
          "height": 73
        },
        "id": "rtOkRwRt-MeV",
        "outputId": "955f6512-a945-40c7-a191-2ab985e43ed5"
      },
      "source": [
        "from google.colab import files\r\n",
        "uploaded = files.upload()"
      ],
      "execution_count": 8,
      "outputs": [
        {
          "output_type": "display_data",
          "data": {
            "text/html": [
              "\n",
              "     <input type=\"file\" id=\"files-1292291d-2d88-495d-a3b9-3b6ed3c0d9ee\" name=\"files[]\" multiple disabled\n",
              "        style=\"border:none\" />\n",
              "     <output id=\"result-1292291d-2d88-495d-a3b9-3b6ed3c0d9ee\">\n",
              "      Upload widget is only available when the cell has been executed in the\n",
              "      current browser session. Please rerun this cell to enable.\n",
              "      </output>\n",
              "      <script src=\"/nbextensions/google.colab/files.js\"></script> "
            ],
            "text/plain": [
              "<IPython.core.display.HTML object>"
            ]
          },
          "metadata": {
            "tags": []
          }
        },
        {
          "output_type": "stream",
          "text": [
            "Saving restnoteringar-2-0.xml to restnoteringar-2-0 (1).xml\n"
          ],
          "name": "stdout"
        }
      ]
    },
    {
      "cell_type": "code",
      "metadata": {
        "id": "ordvd5M_vSys"
      },
      "source": [
        "filename = 'restnoteringar-2-0.xml'\r\n",
        "xtree = ET.parse(filename)\r\n",
        "root = xtree.getroot()"
      ],
      "execution_count": 359,
      "outputs": []
    },
    {
      "cell_type": "code",
      "metadata": {
        "colab": {
          "base_uri": "https://localhost:8080/"
        },
        "id": "KzIPhSSN5FgW",
        "outputId": "43ba5194-13ef-469c-80e8-5dfa754c28c7"
      },
      "source": [
        "one_channel = ET.tostring(root[0],encoding='utf8').decode('utf8')\r\n",
        "print(one_channel)"
      ],
      "execution_count": 360,
      "outputs": [
        {
          "output_type": "stream",
          "text": [
            "<?xml version='1.0' encoding='utf8'?>\n",
            "<ns0:SupplyShortagePublic xmlns:ns0=\"http://eservices.lakemedelsverket.se/lia/medicinalshortage/publish/v1/\">\n",
            "    <ns0:ReferenceNumber>4bdab691-63de-4f1a-9445-3348f7624abd</ns0:ReferenceNumber>\n",
            "    <ns0:FirstPublicationDate>2018-02-09</ns0:FirstPublicationDate>\n",
            "    <ns0:LastPublicationDate>2018-02-23</ns0:LastPublicationDate>\n",
            "    <ns0:PublicPhoneNumber>08-578 135 00</ns0:PublicPhoneNumber>\n",
            "    <ns0:MedicinalProducts>\n",
            "      <ns0:MedicinalProduct>\n",
            "        <ns0:NplId>20050505000047</ns0:NplId>\n",
            "        <ns0:Packages>\n",
            "          <ns0:Package>\n",
            "            <ns0:NplPackId>20050818100014</ns0:NplPackId>\n",
            "            <ns0:ForecastStartDate>2018-02-09</ns0:ForecastStartDate>\n",
            "            <ns0:ForecastEndDate>2018-02-20</ns0:ForecastEndDate>\n",
            "            <ns0:ActualEndDate>2018-02-22</ns0:ActualEndDate>\n",
            "            <ns0:AdviceSpecification>\n",
            "              <ns0:AdviceAdditionalInformation ns0:sort=\"18\">\n",
            "                <ns0:Note>Finns i annan förpackningsstorlek: 10 x 2 ml</ns0:Note>\n",
            "              </ns0:AdviceAdditionalInformation>\n",
            "            </ns0:AdviceSpecification>\n",
            "          </ns0:Package>\n",
            "        </ns0:Packages>\n",
            "      </ns0:MedicinalProduct>\n",
            "    </ns0:MedicinalProducts>\n",
            "  </ns0:SupplyShortagePublic>\n",
            "  \n"
          ],
          "name": "stdout"
        }
      ]
    },
    {
      "cell_type": "markdown",
      "metadata": {
        "id": "2dSKnO7NF9KL"
      },
      "source": [
        "So it is a nested XML tree"
      ]
    },
    {
      "cell_type": "code",
      "metadata": {
        "colab": {
          "base_uri": "https://localhost:8080/"
        },
        "id": "58QAojnnBXYa",
        "outputId": "4873f72d-57ad-468b-865b-09ef3e708e5b"
      },
      "source": [
        "# print essential elements of the tree\r\n",
        "print(root.tag)\r\n",
        "print(root.attrib)\r\n",
        "print(root.text)"
      ],
      "execution_count": 289,
      "outputs": [
        {
          "output_type": "stream",
          "text": [
            "{http://eservices.lakemedelsverket.se/lia/medicinalshortage/publish/v1/}SupplyShortagesPublic\n",
            "{'{http://eservices.lakemedelsverket.se/lia/medicinalshortage/publish/v1/}creationDate': '2021-01-16T06:01:39.6859209+01:00'}\n",
            "\n",
            "  \n"
          ],
          "name": "stdout"
        }
      ]
    },
    {
      "cell_type": "code",
      "metadata": {
        "colab": {
          "base_uri": "https://localhost:8080/"
        },
        "id": "ftNCC6OB4a6c",
        "outputId": "22b54c74-027b-4975-9af2-e97b4b3e5b1f"
      },
      "source": [
        "# Check key and value for one tree\r\n",
        "for child in root[3].iter():\r\n",
        "   print(child.tag, child.text)"
      ],
      "execution_count": 290,
      "outputs": [
        {
          "output_type": "stream",
          "text": [
            "{http://eservices.lakemedelsverket.se/lia/medicinalshortage/publish/v1/}SupplyShortagePublic \n",
            "    \n",
            "{http://eservices.lakemedelsverket.se/lia/medicinalshortage/publish/v1/}ReferenceNumber 3c58b4ad-2ec2-438e-9d17-e5e50edb96f6\n",
            "{http://eservices.lakemedelsverket.se/lia/medicinalshortage/publish/v1/}FirstPublicationDate 2018-02-13\n",
            "{http://eservices.lakemedelsverket.se/lia/medicinalshortage/publish/v1/}LastPublicationDate 2018-05-25\n",
            "{http://eservices.lakemedelsverket.se/lia/medicinalshortage/publish/v1/}PublicPhoneNumber 08-731 28 00\n",
            "{http://eservices.lakemedelsverket.se/lia/medicinalshortage/publish/v1/}PublicEmail infosweden@takeda.com,\n",
            "{http://eservices.lakemedelsverket.se/lia/medicinalshortage/publish/v1/}MedicinalProducts \n",
            "      \n",
            "{http://eservices.lakemedelsverket.se/lia/medicinalshortage/publish/v1/}MedicinalProduct \n",
            "        \n",
            "{http://eservices.lakemedelsverket.se/lia/medicinalshortage/publish/v1/}NplId 19801003000077\n",
            "{http://eservices.lakemedelsverket.se/lia/medicinalshortage/publish/v1/}Packages \n",
            "          \n",
            "{http://eservices.lakemedelsverket.se/lia/medicinalshortage/publish/v1/}Package \n",
            "            \n",
            "{http://eservices.lakemedelsverket.se/lia/medicinalshortage/publish/v1/}NplPackId 10010101106942\n",
            "{http://eservices.lakemedelsverket.se/lia/medicinalshortage/publish/v1/}ForecastStartDate 2018-01-20\n",
            "{http://eservices.lakemedelsverket.se/lia/medicinalshortage/publish/v1/}ForecastEndDate 2018-05-23\n",
            "{http://eservices.lakemedelsverket.se/lia/medicinalshortage/publish/v1/}ActualEndDate 2018-05-24\n",
            "{http://eservices.lakemedelsverket.se/lia/medicinalshortage/publish/v1/}AdviceSpecification \n",
            "              \n",
            "{http://eservices.lakemedelsverket.se/lia/medicinalshortage/publish/v1/}AdviceAdditionalInformation \n",
            "                \n",
            "{http://eservices.lakemedelsverket.se/lia/medicinalshortage/publish/v1/}Note Utbytbara läkemedel: Furosemid Meda, Impugan\n",
            "{http://eservices.lakemedelsverket.se/lia/medicinalshortage/publish/v1/}Package \n",
            "            \n",
            "{http://eservices.lakemedelsverket.se/lia/medicinalshortage/publish/v1/}NplPackId 10010101106935\n",
            "{http://eservices.lakemedelsverket.se/lia/medicinalshortage/publish/v1/}ForecastStartDate 2018-01-20\n",
            "{http://eservices.lakemedelsverket.se/lia/medicinalshortage/publish/v1/}ForecastEndDate 2018-05-23\n",
            "{http://eservices.lakemedelsverket.se/lia/medicinalshortage/publish/v1/}ActualEndDate 2018-05-24\n",
            "{http://eservices.lakemedelsverket.se/lia/medicinalshortage/publish/v1/}AdviceSpecification \n",
            "              \n",
            "{http://eservices.lakemedelsverket.se/lia/medicinalshortage/publish/v1/}AdviceAdditionalInformation \n",
            "                \n",
            "{http://eservices.lakemedelsverket.se/lia/medicinalshortage/publish/v1/}Note Utbytbara läkemedel: Furosemid Meda, Impugan\n",
            "{http://eservices.lakemedelsverket.se/lia/medicinalshortage/publish/v1/}Package \n",
            "            \n",
            "{http://eservices.lakemedelsverket.se/lia/medicinalshortage/publish/v1/}NplPackId 19960401100021\n",
            "{http://eservices.lakemedelsverket.se/lia/medicinalshortage/publish/v1/}ForecastStartDate 2018-01-20\n",
            "{http://eservices.lakemedelsverket.se/lia/medicinalshortage/publish/v1/}ForecastEndDate 2018-05-23\n",
            "{http://eservices.lakemedelsverket.se/lia/medicinalshortage/publish/v1/}ActualEndDate 2018-05-24\n",
            "{http://eservices.lakemedelsverket.se/lia/medicinalshortage/publish/v1/}AdviceSpecification \n",
            "              \n",
            "{http://eservices.lakemedelsverket.se/lia/medicinalshortage/publish/v1/}AdviceAdditionalInformation \n",
            "                \n",
            "{http://eservices.lakemedelsverket.se/lia/medicinalshortage/publish/v1/}Note Utbytbara läkemedel: Furosemid Meda, Impugan\n"
          ],
          "name": "stdout"
        }
      ]
    },
    {
      "cell_type": "code",
      "metadata": {
        "id": "MiYyBKPM9SWY"
      },
      "source": [
        "# Helper funtions\r\n",
        "def getName(name):\r\n",
        "    # split tag, only take the part after }   \r\n",
        "    result = name\r\n",
        "    splitArr = name.split('}')\r\n",
        "    if len(splitArr) > 1:\r\n",
        "        result = splitArr[1]\r\n",
        "    return result\r\n",
        "\r\n",
        "def insertKeyValue(root):\r\n",
        "    if len(list(root)) > 0:\r\n",
        "        for child in root:\r\n",
        "            insertKeyValue(child)\r\n",
        "    else:\r\n",
        "        # Iterate through root to get name (tag) and value (text)\r\n",
        "        key = getName(root.tag)\r\n",
        "        value = root.text + \" \"\r\n",
        "        # if there are several values, seperate them by \\n for pre-processing later\r\n",
        "        if key in columItem.keys():\r\n",
        "            columItem[key] = columItem[key] + \"\\n\" + value\r\n",
        "        else:\r\n",
        "            columItem[key] = value\r\n",
        "\r\n",
        "\r\n",
        "# Initialize\r\n",
        "keyvalueList = [] # to get key-value (tag- text) list\r\n",
        "maxColumCount = 0 # to create number of columns equal to number of keys later\r\n",
        "maxColumIndex = 0 # to get key position later\r\n",
        "i = 0\r\n",
        "\r\n",
        "# Find key value in each main child of each Supply Shortage root\r\n",
        "for eachSupplyShortagePublic in root:\r\n",
        "\r\n",
        "    columItem = {}\r\n",
        "    # insert key value pairs for each single root\r\n",
        "    for mainChild in eachSupplyShortagePublic:\r\n",
        "        insertKeyValue(mainChild)\r\n",
        "\r\n",
        "    # count number of main child and indexing \r\n",
        "    if len(columItem.keys()) > maxColumCount:\r\n",
        "       maxColumCount = len(columItem.keys())\r\n",
        "       maxColumIndex = i\r\n",
        "\r\n",
        "    keyvalueList.append(columItem)\r\n",
        "    i += 1\r\n",
        "\r\n",
        "# Find key-value for each sub child and append all in a dictionary\r\n",
        "dict = {}\r\n",
        "\r\n",
        "if len(keyvalueList) > 0:\r\n",
        "    #Get key position by index of keyvalueList \r\n",
        "    mainKeys = keyvalueList[maxColumIndex].keys()\r\n",
        "    #Create list of temporary keys\r\n",
        "    for tempKey in mainKeys:\r\n",
        "        dict[tempKey] = []\r\n",
        "\r\n",
        "    # For loop within keyvalueList\r\n",
        "    for i in range(0, len(keyvalueList)):\r\n",
        "        column = keyvalueList[i]\r\n",
        "        columnKeys = column.keys()\r\n",
        "\r\n",
        "        for key in mainKeys:\r\n",
        "            # Put key value into dict if exist\r\n",
        "            if key in columnKeys:\r\n",
        "                dict[key].append(column[key])\r\n",
        "            # else, append empty value\r\n",
        "            else:\r\n",
        "                dict[key].append(\"\")\r\n",
        "else: # if no keyvalue was found\r\n",
        "  raise ValueError('There is no data')\r\n",
        "\r\n",
        "# Get dataframe\r\n",
        "stockoutse = pd.DataFrame(dict)"
      ],
      "execution_count": 361,
      "outputs": []
    },
    {
      "cell_type": "code",
      "metadata": {
        "colab": {
          "base_uri": "https://localhost:8080/",
          "height": 347
        },
        "id": "_YFaw6UnTrrB",
        "outputId": "d79e4806-bfbd-4ece-cbba-9f04b3c2ef28"
      },
      "source": [
        "\r\n",
        "stockoutse.head(5)"
      ],
      "execution_count": 362,
      "outputs": [
        {
          "output_type": "execute_result",
          "data": {
            "text/html": [
              "<div>\n",
              "<style scoped>\n",
              "    .dataframe tbody tr th:only-of-type {\n",
              "        vertical-align: middle;\n",
              "    }\n",
              "\n",
              "    .dataframe tbody tr th {\n",
              "        vertical-align: top;\n",
              "    }\n",
              "\n",
              "    .dataframe thead th {\n",
              "        text-align: right;\n",
              "    }\n",
              "</style>\n",
              "<table border=\"1\" class=\"dataframe\">\n",
              "  <thead>\n",
              "    <tr style=\"text-align: right;\">\n",
              "      <th></th>\n",
              "      <th>ReferenceNumber</th>\n",
              "      <th>FirstPublicationDate</th>\n",
              "      <th>LastPublicationDate</th>\n",
              "      <th>PublicPhoneNumber</th>\n",
              "      <th>PublicEmail</th>\n",
              "      <th>NplId</th>\n",
              "      <th>NplPackId</th>\n",
              "      <th>ForecastStartDate</th>\n",
              "      <th>ForecastEndDate</th>\n",
              "      <th>ActualEndDate</th>\n",
              "      <th>Description</th>\n",
              "      <th>Note</th>\n",
              "      <th>AtcCode</th>\n",
              "    </tr>\n",
              "  </thead>\n",
              "  <tbody>\n",
              "    <tr>\n",
              "      <th>0</th>\n",
              "      <td>4bdab691-63de-4f1a-9445-3348f7624abd</td>\n",
              "      <td>2018-02-09</td>\n",
              "      <td>2018-02-23</td>\n",
              "      <td>08-578 135 00</td>\n",
              "      <td></td>\n",
              "      <td>20050505000047</td>\n",
              "      <td>20050818100014</td>\n",
              "      <td>2018-02-09</td>\n",
              "      <td>2018-02-20</td>\n",
              "      <td>2018-02-22</td>\n",
              "      <td></td>\n",
              "      <td>Finns i annan förpackningsstorlek: 10 x 2 ml</td>\n",
              "      <td></td>\n",
              "    </tr>\n",
              "    <tr>\n",
              "      <th>1</th>\n",
              "      <td>43e48426-e824-4689-878e-81da57327341</td>\n",
              "      <td>2018-02-12</td>\n",
              "      <td>2018-04-18</td>\n",
              "      <td>+46-856642572</td>\n",
              "      <td></td>\n",
              "      <td>19690124000024</td>\n",
              "      <td>19690101100082</td>\n",
              "      <td>2018-02-01</td>\n",
              "      <td>2018-03-05</td>\n",
              "      <td>2018-04-17</td>\n",
              "      <td></td>\n",
              "      <td>Läkemedel finns i annan beredningsform: Xylopr...</td>\n",
              "      <td></td>\n",
              "    </tr>\n",
              "    <tr>\n",
              "      <th>2</th>\n",
              "      <td>75721bdb-45c9-4c37-9fef-7d6e8e33e867</td>\n",
              "      <td>2018-02-15</td>\n",
              "      <td>2018-05-18</td>\n",
              "      <td>+46-856642572</td>\n",
              "      <td></td>\n",
              "      <td>19660914000015</td>\n",
              "      <td>19660701100010</td>\n",
              "      <td>2018-02-01</td>\n",
              "      <td>2018-04-30</td>\n",
              "      <td>2018-05-18</td>\n",
              "      <td></td>\n",
              "      <td>Finns inga utbytbara läkemedel.\\nLäkemedel fin...</td>\n",
              "      <td></td>\n",
              "    </tr>\n",
              "    <tr>\n",
              "      <th>3</th>\n",
              "      <td>3c58b4ad-2ec2-438e-9d17-e5e50edb96f6</td>\n",
              "      <td>2018-02-13</td>\n",
              "      <td>2018-05-25</td>\n",
              "      <td>08-731 28 00</td>\n",
              "      <td>infosweden@takeda.com,</td>\n",
              "      <td>19801003000077</td>\n",
              "      <td>10010101106942 \\n10010101106935 \\n19960401100021</td>\n",
              "      <td>2018-01-20 \\n2018-01-20 \\n2018-01-20</td>\n",
              "      <td>2018-05-23 \\n2018-05-23 \\n2018-05-23</td>\n",
              "      <td>2018-05-24 \\n2018-05-24 \\n2018-05-24</td>\n",
              "      <td></td>\n",
              "      <td>Utbytbara läkemedel: Furosemid Meda, Impugan \\...</td>\n",
              "      <td></td>\n",
              "    </tr>\n",
              "    <tr>\n",
              "      <th>4</th>\n",
              "      <td>f560c1e9-8ed1-415d-adc0-503efdbf1b8f</td>\n",
              "      <td>2018-02-14</td>\n",
              "      <td>2018-06-30</td>\n",
              "      <td>+46-856642572</td>\n",
              "      <td></td>\n",
              "      <td>19930528000047</td>\n",
              "      <td>10010101112950</td>\n",
              "      <td>2018-02-15</td>\n",
              "      <td>2018-04-02</td>\n",
              "      <td>2018-02-26</td>\n",
              "      <td></td>\n",
              "      <td>Utbytbart läkemedel: Tapin \\n[I informationen ...</td>\n",
              "      <td></td>\n",
              "    </tr>\n",
              "  </tbody>\n",
              "</table>\n",
              "</div>"
            ],
            "text/plain": [
              "                         ReferenceNumber  ... AtcCode\n",
              "0  4bdab691-63de-4f1a-9445-3348f7624abd   ...        \n",
              "1  43e48426-e824-4689-878e-81da57327341   ...        \n",
              "2  75721bdb-45c9-4c37-9fef-7d6e8e33e867   ...        \n",
              "3  3c58b4ad-2ec2-438e-9d17-e5e50edb96f6   ...        \n",
              "4  f560c1e9-8ed1-415d-adc0-503efdbf1b8f   ...        \n",
              "\n",
              "[5 rows x 13 columns]"
            ]
          },
          "metadata": {
            "tags": []
          },
          "execution_count": 362
        }
      ]
    },
    {
      "cell_type": "markdown",
      "metadata": {
        "id": "-75QHi3b52-t"
      },
      "source": [
        "We only consider the following variables: \r\n",
        "NplPackId\r\n",
        "ForecastStartDate\r\n",
        "ActualEndDate\t\r\n",
        "\r\n",
        "Because other countries' data don't contain forecastEndDate = Will use ActualEndDate"
      ]
    },
    {
      "cell_type": "code",
      "metadata": {
        "id": "Z19VnmhQpfdK"
      },
      "source": [
        "stockoutse = stockoutse[['NplPackId','ForecastStartDate','ActualEndDate']]\r\n"
      ],
      "execution_count": 363,
      "outputs": []
    },
    {
      "cell_type": "code",
      "metadata": {
        "id": "GDmLfNbqMprS"
      },
      "source": [
        "sub_single = stockoutse[~stockoutse['NplPackId'].str.contains(\"\\n\")]\r\n",
        "\r\n",
        "multi_rowdf = stockoutse[stockoutse['NplPackId'].str.contains(\"\\n\")]\r\n",
        "\r\n",
        "\r\n",
        "sub1 = multi_rowdf[['NplPackId','ForecastStartDate','ActualEndDate']]\r\n",
        "\r\n",
        "sub1 = sub1.assign(NplPackId=sub1.NplPackId.str.split('\\n'))\\\r\n",
        "          .explode('NplPackId')\\\r\n",
        "          .reset_index(drop=True)\r\n",
        "sub2  = sub1.assign(ForecastStartDate=sub1.ForecastStartDate.str.split('\\n'))\\\r\n",
        "            .explode('ForecastStartDate')\\\r\n",
        "            .reset_index(drop=True)\r\n",
        "sub3  = sub2.assign(ActualEndDate=sub2.ActualEndDate.str.split('\\n'))\\\r\n",
        "            .explode('ActualEndDate')\\\r\n",
        "            .reset_index(drop=True)\r\n",
        "\r\n",
        "sub4 = sub3[['NplPackId','ForecastStartDate','ActualEndDate']]\r\n",
        "sub_multi = sub4.drop_duplicates().reset_index(drop=True)\r\n",
        "\r\n",
        "\r\n",
        "se = sub_multi.append(sub_single, ignore_index=True)\r\n"
      ],
      "execution_count": 373,
      "outputs": []
    },
    {
      "cell_type": "code",
      "metadata": {
        "colab": {
          "base_uri": "https://localhost:8080/",
          "height": 406
        },
        "id": "KBhn-zSbdT-N",
        "outputId": "45046086-8306-455f-bd2f-68e7008f7667"
      },
      "source": [
        "sub1"
      ],
      "execution_count": 374,
      "outputs": [
        {
          "output_type": "execute_result",
          "data": {
            "text/html": [
              "<div>\n",
              "<style scoped>\n",
              "    .dataframe tbody tr th:only-of-type {\n",
              "        vertical-align: middle;\n",
              "    }\n",
              "\n",
              "    .dataframe tbody tr th {\n",
              "        vertical-align: top;\n",
              "    }\n",
              "\n",
              "    .dataframe thead th {\n",
              "        text-align: right;\n",
              "    }\n",
              "</style>\n",
              "<table border=\"1\" class=\"dataframe\">\n",
              "  <thead>\n",
              "    <tr style=\"text-align: right;\">\n",
              "      <th></th>\n",
              "      <th>NplPackId</th>\n",
              "      <th>ForecastStartDate</th>\n",
              "      <th>ActualEndDate</th>\n",
              "    </tr>\n",
              "  </thead>\n",
              "  <tbody>\n",
              "    <tr>\n",
              "      <th>0</th>\n",
              "      <td>10010101106942</td>\n",
              "      <td>2018-01-20 \\n2018-01-20 \\n2018-01-20</td>\n",
              "      <td>2018-05-24 \\n2018-05-24 \\n2018-05-24</td>\n",
              "    </tr>\n",
              "    <tr>\n",
              "      <th>1</th>\n",
              "      <td>10010101106935</td>\n",
              "      <td>2018-01-20 \\n2018-01-20 \\n2018-01-20</td>\n",
              "      <td>2018-05-24 \\n2018-05-24 \\n2018-05-24</td>\n",
              "    </tr>\n",
              "    <tr>\n",
              "      <th>2</th>\n",
              "      <td>19960401100021</td>\n",
              "      <td>2018-01-20 \\n2018-01-20 \\n2018-01-20</td>\n",
              "      <td>2018-05-24 \\n2018-05-24 \\n2018-05-24</td>\n",
              "    </tr>\n",
              "    <tr>\n",
              "      <th>3</th>\n",
              "      <td>20060913100079</td>\n",
              "      <td>2018-02-13 \\n2018-02-13</td>\n",
              "      <td>2018-04-13 \\n2018-04-13</td>\n",
              "    </tr>\n",
              "    <tr>\n",
              "      <th>4</th>\n",
              "      <td>20060913100086</td>\n",
              "      <td>2018-02-13 \\n2018-02-13</td>\n",
              "      <td>2018-04-13 \\n2018-04-13</td>\n",
              "    </tr>\n",
              "    <tr>\n",
              "      <th>...</th>\n",
              "      <td>...</td>\n",
              "      <td>...</td>\n",
              "      <td>...</td>\n",
              "    </tr>\n",
              "    <tr>\n",
              "      <th>1779</th>\n",
              "      <td>20030917100221</td>\n",
              "      <td>2021-01-11</td>\n",
              "      <td></td>\n",
              "    </tr>\n",
              "    <tr>\n",
              "      <th>1780</th>\n",
              "      <td>20030917100191</td>\n",
              "      <td>2021-01-11</td>\n",
              "      <td></td>\n",
              "    </tr>\n",
              "    <tr>\n",
              "      <th>1781</th>\n",
              "      <td>20130828100089</td>\n",
              "      <td>2021-01-11</td>\n",
              "      <td></td>\n",
              "    </tr>\n",
              "    <tr>\n",
              "      <th>1782</th>\n",
              "      <td>19660701100027</td>\n",
              "      <td>2021-05-15 \\n2021-03-01</td>\n",
              "      <td></td>\n",
              "    </tr>\n",
              "    <tr>\n",
              "      <th>1783</th>\n",
              "      <td>19660701100010</td>\n",
              "      <td>2021-05-15 \\n2021-03-01</td>\n",
              "      <td></td>\n",
              "    </tr>\n",
              "  </tbody>\n",
              "</table>\n",
              "<p>1784 rows × 3 columns</p>\n",
              "</div>"
            ],
            "text/plain": [
              "            NplPackId  ...                          ActualEndDate\n",
              "0     10010101106942   ...  2018-05-24 \\n2018-05-24 \\n2018-05-24 \n",
              "1     10010101106935   ...  2018-05-24 \\n2018-05-24 \\n2018-05-24 \n",
              "2     19960401100021   ...  2018-05-24 \\n2018-05-24 \\n2018-05-24 \n",
              "3     20060913100079   ...               2018-04-13 \\n2018-04-13 \n",
              "4     20060913100086   ...               2018-04-13 \\n2018-04-13 \n",
              "...               ...  ...                                    ...\n",
              "1779  20030917100221   ...                                       \n",
              "1780  20030917100191   ...                                       \n",
              "1781  20130828100089   ...                                       \n",
              "1782  19660701100027   ...                                       \n",
              "1783  19660701100010   ...                                       \n",
              "\n",
              "[1784 rows x 3 columns]"
            ]
          },
          "metadata": {
            "tags": []
          },
          "execution_count": 374
        }
      ]
    },
    {
      "cell_type": "code",
      "metadata": {
        "colab": {
          "base_uri": "https://localhost:8080/",
          "height": 406
        },
        "id": "ElcewjemdW1b",
        "outputId": "6d8fad72-e52a-45e4-eff1-21f654dc24fe"
      },
      "source": [
        "sub2"
      ],
      "execution_count": 375,
      "outputs": [
        {
          "output_type": "execute_result",
          "data": {
            "text/html": [
              "<div>\n",
              "<style scoped>\n",
              "    .dataframe tbody tr th:only-of-type {\n",
              "        vertical-align: middle;\n",
              "    }\n",
              "\n",
              "    .dataframe tbody tr th {\n",
              "        vertical-align: top;\n",
              "    }\n",
              "\n",
              "    .dataframe thead th {\n",
              "        text-align: right;\n",
              "    }\n",
              "</style>\n",
              "<table border=\"1\" class=\"dataframe\">\n",
              "  <thead>\n",
              "    <tr style=\"text-align: right;\">\n",
              "      <th></th>\n",
              "      <th>NplPackId</th>\n",
              "      <th>ForecastStartDate</th>\n",
              "      <th>ActualEndDate</th>\n",
              "    </tr>\n",
              "  </thead>\n",
              "  <tbody>\n",
              "    <tr>\n",
              "      <th>0</th>\n",
              "      <td>10010101106942</td>\n",
              "      <td>2018-01-20</td>\n",
              "      <td>2018-05-24 \\n2018-05-24 \\n2018-05-24</td>\n",
              "    </tr>\n",
              "    <tr>\n",
              "      <th>1</th>\n",
              "      <td>10010101106942</td>\n",
              "      <td>2018-01-20</td>\n",
              "      <td>2018-05-24 \\n2018-05-24 \\n2018-05-24</td>\n",
              "    </tr>\n",
              "    <tr>\n",
              "      <th>2</th>\n",
              "      <td>10010101106942</td>\n",
              "      <td>2018-01-20</td>\n",
              "      <td>2018-05-24 \\n2018-05-24 \\n2018-05-24</td>\n",
              "    </tr>\n",
              "    <tr>\n",
              "      <th>3</th>\n",
              "      <td>10010101106935</td>\n",
              "      <td>2018-01-20</td>\n",
              "      <td>2018-05-24 \\n2018-05-24 \\n2018-05-24</td>\n",
              "    </tr>\n",
              "    <tr>\n",
              "      <th>4</th>\n",
              "      <td>10010101106935</td>\n",
              "      <td>2018-01-20</td>\n",
              "      <td>2018-05-24 \\n2018-05-24 \\n2018-05-24</td>\n",
              "    </tr>\n",
              "    <tr>\n",
              "      <th>...</th>\n",
              "      <td>...</td>\n",
              "      <td>...</td>\n",
              "      <td>...</td>\n",
              "    </tr>\n",
              "    <tr>\n",
              "      <th>10846</th>\n",
              "      <td>20130828100089</td>\n",
              "      <td>2021-01-11</td>\n",
              "      <td></td>\n",
              "    </tr>\n",
              "    <tr>\n",
              "      <th>10847</th>\n",
              "      <td>19660701100027</td>\n",
              "      <td>2021-05-15</td>\n",
              "      <td></td>\n",
              "    </tr>\n",
              "    <tr>\n",
              "      <th>10848</th>\n",
              "      <td>19660701100027</td>\n",
              "      <td>2021-03-01</td>\n",
              "      <td></td>\n",
              "    </tr>\n",
              "    <tr>\n",
              "      <th>10849</th>\n",
              "      <td>19660701100010</td>\n",
              "      <td>2021-05-15</td>\n",
              "      <td></td>\n",
              "    </tr>\n",
              "    <tr>\n",
              "      <th>10850</th>\n",
              "      <td>19660701100010</td>\n",
              "      <td>2021-03-01</td>\n",
              "      <td></td>\n",
              "    </tr>\n",
              "  </tbody>\n",
              "</table>\n",
              "<p>10851 rows × 3 columns</p>\n",
              "</div>"
            ],
            "text/plain": [
              "             NplPackId ForecastStartDate                          ActualEndDate\n",
              "0      10010101106942        2018-01-20   2018-05-24 \\n2018-05-24 \\n2018-05-24 \n",
              "1      10010101106942        2018-01-20   2018-05-24 \\n2018-05-24 \\n2018-05-24 \n",
              "2      10010101106942        2018-01-20   2018-05-24 \\n2018-05-24 \\n2018-05-24 \n",
              "3      10010101106935        2018-01-20   2018-05-24 \\n2018-05-24 \\n2018-05-24 \n",
              "4      10010101106935        2018-01-20   2018-05-24 \\n2018-05-24 \\n2018-05-24 \n",
              "...                ...               ...                                    ...\n",
              "10846  20130828100089        2021-01-11                                        \n",
              "10847  19660701100027        2021-05-15                                        \n",
              "10848  19660701100027        2021-03-01                                        \n",
              "10849  19660701100010        2021-05-15                                        \n",
              "10850  19660701100010        2021-03-01                                        \n",
              "\n",
              "[10851 rows x 3 columns]"
            ]
          },
          "metadata": {
            "tags": []
          },
          "execution_count": 375
        }
      ]
    },
    {
      "cell_type": "code",
      "metadata": {
        "colab": {
          "base_uri": "https://localhost:8080/",
          "height": 406
        },
        "id": "w9vJ45_Kdae7",
        "outputId": "155fc6d4-9ee1-4351-ef8c-9b85c209be2a"
      },
      "source": [
        "sub3"
      ],
      "execution_count": 376,
      "outputs": [
        {
          "output_type": "execute_result",
          "data": {
            "text/html": [
              "<div>\n",
              "<style scoped>\n",
              "    .dataframe tbody tr th:only-of-type {\n",
              "        vertical-align: middle;\n",
              "    }\n",
              "\n",
              "    .dataframe tbody tr th {\n",
              "        vertical-align: top;\n",
              "    }\n",
              "\n",
              "    .dataframe thead th {\n",
              "        text-align: right;\n",
              "    }\n",
              "</style>\n",
              "<table border=\"1\" class=\"dataframe\">\n",
              "  <thead>\n",
              "    <tr style=\"text-align: right;\">\n",
              "      <th></th>\n",
              "      <th>NplPackId</th>\n",
              "      <th>ForecastStartDate</th>\n",
              "      <th>ActualEndDate</th>\n",
              "    </tr>\n",
              "  </thead>\n",
              "  <tbody>\n",
              "    <tr>\n",
              "      <th>0</th>\n",
              "      <td>10010101106942</td>\n",
              "      <td>2018-01-20</td>\n",
              "      <td>2018-05-24</td>\n",
              "    </tr>\n",
              "    <tr>\n",
              "      <th>1</th>\n",
              "      <td>10010101106942</td>\n",
              "      <td>2018-01-20</td>\n",
              "      <td>2018-05-24</td>\n",
              "    </tr>\n",
              "    <tr>\n",
              "      <th>2</th>\n",
              "      <td>10010101106942</td>\n",
              "      <td>2018-01-20</td>\n",
              "      <td>2018-05-24</td>\n",
              "    </tr>\n",
              "    <tr>\n",
              "      <th>3</th>\n",
              "      <td>10010101106942</td>\n",
              "      <td>2018-01-20</td>\n",
              "      <td>2018-05-24</td>\n",
              "    </tr>\n",
              "    <tr>\n",
              "      <th>4</th>\n",
              "      <td>10010101106942</td>\n",
              "      <td>2018-01-20</td>\n",
              "      <td>2018-05-24</td>\n",
              "    </tr>\n",
              "    <tr>\n",
              "      <th>...</th>\n",
              "      <td>...</td>\n",
              "      <td>...</td>\n",
              "      <td>...</td>\n",
              "    </tr>\n",
              "    <tr>\n",
              "      <th>207224</th>\n",
              "      <td>20130828100089</td>\n",
              "      <td>2021-01-11</td>\n",
              "      <td></td>\n",
              "    </tr>\n",
              "    <tr>\n",
              "      <th>207225</th>\n",
              "      <td>19660701100027</td>\n",
              "      <td>2021-05-15</td>\n",
              "      <td></td>\n",
              "    </tr>\n",
              "    <tr>\n",
              "      <th>207226</th>\n",
              "      <td>19660701100027</td>\n",
              "      <td>2021-03-01</td>\n",
              "      <td></td>\n",
              "    </tr>\n",
              "    <tr>\n",
              "      <th>207227</th>\n",
              "      <td>19660701100010</td>\n",
              "      <td>2021-05-15</td>\n",
              "      <td></td>\n",
              "    </tr>\n",
              "    <tr>\n",
              "      <th>207228</th>\n",
              "      <td>19660701100010</td>\n",
              "      <td>2021-03-01</td>\n",
              "      <td></td>\n",
              "    </tr>\n",
              "  </tbody>\n",
              "</table>\n",
              "<p>207229 rows × 3 columns</p>\n",
              "</div>"
            ],
            "text/plain": [
              "              NplPackId ForecastStartDate ActualEndDate\n",
              "0       10010101106942        2018-01-20    2018-05-24 \n",
              "1       10010101106942        2018-01-20    2018-05-24 \n",
              "2       10010101106942        2018-01-20    2018-05-24 \n",
              "3       10010101106942        2018-01-20    2018-05-24 \n",
              "4       10010101106942        2018-01-20    2018-05-24 \n",
              "...                 ...               ...           ...\n",
              "207224  20130828100089        2021-01-11               \n",
              "207225  19660701100027        2021-05-15               \n",
              "207226  19660701100027        2021-03-01               \n",
              "207227  19660701100010        2021-05-15               \n",
              "207228  19660701100010        2021-03-01               \n",
              "\n",
              "[207229 rows x 3 columns]"
            ]
          },
          "metadata": {
            "tags": []
          },
          "execution_count": 376
        }
      ]
    },
    {
      "cell_type": "code",
      "metadata": {
        "colab": {
          "base_uri": "https://localhost:8080/",
          "height": 406
        },
        "id": "FTNJPQSBddNu",
        "outputId": "cdb0c341-22cc-40ba-f3bc-dccb2b49fe64"
      },
      "source": [
        "se.sort_values(by='ForecastStartDate')"
      ],
      "execution_count": 377,
      "outputs": [
        {
          "output_type": "execute_result",
          "data": {
            "text/html": [
              "<div>\n",
              "<style scoped>\n",
              "    .dataframe tbody tr th:only-of-type {\n",
              "        vertical-align: middle;\n",
              "    }\n",
              "\n",
              "    .dataframe tbody tr th {\n",
              "        vertical-align: top;\n",
              "    }\n",
              "\n",
              "    .dataframe thead th {\n",
              "        text-align: right;\n",
              "    }\n",
              "</style>\n",
              "<table border=\"1\" class=\"dataframe\">\n",
              "  <thead>\n",
              "    <tr style=\"text-align: right;\">\n",
              "      <th></th>\n",
              "      <th>NplPackId</th>\n",
              "      <th>ForecastStartDate</th>\n",
              "      <th>ActualEndDate</th>\n",
              "    </tr>\n",
              "  </thead>\n",
              "  <tbody>\n",
              "    <tr>\n",
              "      <th>2801</th>\n",
              "      <td>20040922100048</td>\n",
              "      <td>2015-02-20</td>\n",
              "      <td>2019-09-03</td>\n",
              "    </tr>\n",
              "    <tr>\n",
              "      <th>2528</th>\n",
              "      <td>20090902100049</td>\n",
              "      <td>2016-09-01</td>\n",
              "      <td>2019-03-21</td>\n",
              "    </tr>\n",
              "    <tr>\n",
              "      <th>386</th>\n",
              "      <td>20110209100617</td>\n",
              "      <td>2016-10-03</td>\n",
              "      <td>2019-12-02</td>\n",
              "    </tr>\n",
              "    <tr>\n",
              "      <th>387</th>\n",
              "      <td>20110209100549</td>\n",
              "      <td>2016-10-03</td>\n",
              "      <td>2019-12-02</td>\n",
              "    </tr>\n",
              "    <tr>\n",
              "      <th>2526</th>\n",
              "      <td>20090902100056</td>\n",
              "      <td>2016-11-24</td>\n",
              "      <td>2019-03-21</td>\n",
              "    </tr>\n",
              "    <tr>\n",
              "      <th>...</th>\n",
              "      <td>...</td>\n",
              "      <td>...</td>\n",
              "      <td>...</td>\n",
              "    </tr>\n",
              "    <tr>\n",
              "      <th>4736</th>\n",
              "      <td>10010101108175</td>\n",
              "      <td>2021-03-21</td>\n",
              "      <td></td>\n",
              "    </tr>\n",
              "    <tr>\n",
              "      <th>4731</th>\n",
              "      <td>10010101123208</td>\n",
              "      <td>2021-03-31</td>\n",
              "      <td></td>\n",
              "    </tr>\n",
              "    <tr>\n",
              "      <th>4654</th>\n",
              "      <td>19721001100046</td>\n",
              "      <td>2021-05-01</td>\n",
              "      <td></td>\n",
              "    </tr>\n",
              "    <tr>\n",
              "      <th>2328</th>\n",
              "      <td>19660701100027</td>\n",
              "      <td>2021-05-15</td>\n",
              "      <td></td>\n",
              "    </tr>\n",
              "    <tr>\n",
              "      <th>2330</th>\n",
              "      <td>19660701100010</td>\n",
              "      <td>2021-05-15</td>\n",
              "      <td></td>\n",
              "    </tr>\n",
              "  </tbody>\n",
              "</table>\n",
              "<p>4738 rows × 3 columns</p>\n",
              "</div>"
            ],
            "text/plain": [
              "            NplPackId ForecastStartDate ActualEndDate\n",
              "2801  20040922100048        2015-02-20    2019-09-03 \n",
              "2528  20090902100049        2016-09-01    2019-03-21 \n",
              "386   20110209100617        2016-10-03    2019-12-02 \n",
              "387   20110209100549        2016-10-03    2019-12-02 \n",
              "2526  20090902100056        2016-11-24    2019-03-21 \n",
              "...               ...               ...           ...\n",
              "4736  10010101108175        2021-03-21               \n",
              "4731  10010101123208        2021-03-31               \n",
              "4654  19721001100046        2021-05-01               \n",
              "2328  19660701100027        2021-05-15               \n",
              "2330  19660701100010        2021-05-15               \n",
              "\n",
              "[4738 rows x 3 columns]"
            ]
          },
          "metadata": {
            "tags": []
          },
          "execution_count": 377
        }
      ]
    },
    {
      "cell_type": "code",
      "metadata": {
        "id": "NWJa28hTWtLq"
      },
      "source": [
        "se.to_csv('stockout_se.csv')"
      ],
      "execution_count": 340,
      "outputs": []
    }
  ]
}